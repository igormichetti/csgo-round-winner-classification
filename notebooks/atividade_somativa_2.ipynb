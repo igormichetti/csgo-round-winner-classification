{
 "cells": [
  {
   "cell_type": "markdown",
   "metadata": {},
   "source": [
    " \n",
    "<h2>\n",
    "    <center>\n",
    "              Técnincas de Machine Learning </br>\n",
    "    </center>\n",
    "<h2>\n",
    "\n",
    " \n",
    "<h3>\n",
    "    <center>\n",
    "            Atividade Somativa 2:\n",
    "             Criando Sua Própria IA - Parte II\n",
    "    </center>\n",
    "<h3>\n",
    "\n",
    "<h4>Dataset: CSGO Round Snapshots</h4>\n",
    "\n",
    "##### Aluno: [Igor Michetti](https://github.com/igormichetti) </br>RA: 1112020102213\n"
   ]
  },
  {
   "cell_type": "markdown",
   "metadata": {},
   "source": [
    "### 1. Carregar o Dataset"
   ]
  },
  {
   "cell_type": "code",
   "execution_count": 76,
   "metadata": {},
   "outputs": [],
   "source": [
    "import pandas as pd\n",
    "from sklearn.model_selection import train_test_split\n",
    "from sklearn.ensemble import RandomForestClassifier\n",
    "from sklearn.compose import ColumnTransformer\n",
    "from sklearn.pipeline import Pipeline\n",
    "from sklearn.preprocessing import OneHotEncoder, FunctionTransformer\n",
    "from sklearn.base import BaseEstimator\n",
    "from sklearn.metrics import accuracy_score, confusion_matrix, classification_report, roc_curve, auc"
   ]
  },
  {
   "cell_type": "code",
   "execution_count": 3,
   "metadata": {},
   "outputs": [
    {
     "data": {
      "text/html": [
       "<div>\n",
       "<style scoped>\n",
       "    .dataframe tbody tr th:only-of-type {\n",
       "        vertical-align: middle;\n",
       "    }\n",
       "\n",
       "    .dataframe tbody tr th {\n",
       "        vertical-align: top;\n",
       "    }\n",
       "\n",
       "    .dataframe thead th {\n",
       "        text-align: right;\n",
       "    }\n",
       "</style>\n",
       "<table border=\"1\" class=\"dataframe\">\n",
       "  <thead>\n",
       "    <tr style=\"text-align: right;\">\n",
       "      <th></th>\n",
       "      <th>time_left</th>\n",
       "      <th>ct_score</th>\n",
       "      <th>t_score</th>\n",
       "      <th>map</th>\n",
       "      <th>ct_health</th>\n",
       "      <th>t_health</th>\n",
       "      <th>ct_money</th>\n",
       "      <th>t_money</th>\n",
       "      <th>ct_helmets</th>\n",
       "      <th>t_helmets</th>\n",
       "      <th>...</th>\n",
       "      <th>t_grenade_flashbang</th>\n",
       "      <th>ct_grenade_smokegrenade</th>\n",
       "      <th>t_grenade_smokegrenade</th>\n",
       "      <th>ct_grenade_incendiarygrenade</th>\n",
       "      <th>t_grenade_incendiarygrenade</th>\n",
       "      <th>ct_grenade_molotovgrenade</th>\n",
       "      <th>t_grenade_molotovgrenade</th>\n",
       "      <th>ct_grenade_decoygrenade</th>\n",
       "      <th>t_grenade_decoygrenade</th>\n",
       "      <th>round_winner</th>\n",
       "    </tr>\n",
       "  </thead>\n",
       "  <tbody>\n",
       "    <tr>\n",
       "      <th>0</th>\n",
       "      <td>175.00</td>\n",
       "      <td>0</td>\n",
       "      <td>0</td>\n",
       "      <td>de_dust2</td>\n",
       "      <td>500</td>\n",
       "      <td>500</td>\n",
       "      <td>4000</td>\n",
       "      <td>4000</td>\n",
       "      <td>0</td>\n",
       "      <td>0</td>\n",
       "      <td>...</td>\n",
       "      <td>0</td>\n",
       "      <td>0</td>\n",
       "      <td>0</td>\n",
       "      <td>0</td>\n",
       "      <td>0</td>\n",
       "      <td>0</td>\n",
       "      <td>0</td>\n",
       "      <td>0</td>\n",
       "      <td>0</td>\n",
       "      <td>CT</td>\n",
       "    </tr>\n",
       "    <tr>\n",
       "      <th>1</th>\n",
       "      <td>156.03</td>\n",
       "      <td>0</td>\n",
       "      <td>0</td>\n",
       "      <td>de_dust2</td>\n",
       "      <td>500</td>\n",
       "      <td>500</td>\n",
       "      <td>600</td>\n",
       "      <td>650</td>\n",
       "      <td>0</td>\n",
       "      <td>0</td>\n",
       "      <td>...</td>\n",
       "      <td>0</td>\n",
       "      <td>0</td>\n",
       "      <td>2</td>\n",
       "      <td>0</td>\n",
       "      <td>0</td>\n",
       "      <td>0</td>\n",
       "      <td>0</td>\n",
       "      <td>0</td>\n",
       "      <td>0</td>\n",
       "      <td>CT</td>\n",
       "    </tr>\n",
       "    <tr>\n",
       "      <th>2</th>\n",
       "      <td>96.03</td>\n",
       "      <td>0</td>\n",
       "      <td>0</td>\n",
       "      <td>de_dust2</td>\n",
       "      <td>391</td>\n",
       "      <td>400</td>\n",
       "      <td>750</td>\n",
       "      <td>500</td>\n",
       "      <td>0</td>\n",
       "      <td>0</td>\n",
       "      <td>...</td>\n",
       "      <td>0</td>\n",
       "      <td>0</td>\n",
       "      <td>2</td>\n",
       "      <td>0</td>\n",
       "      <td>0</td>\n",
       "      <td>0</td>\n",
       "      <td>0</td>\n",
       "      <td>0</td>\n",
       "      <td>0</td>\n",
       "      <td>CT</td>\n",
       "    </tr>\n",
       "    <tr>\n",
       "      <th>3</th>\n",
       "      <td>76.03</td>\n",
       "      <td>0</td>\n",
       "      <td>0</td>\n",
       "      <td>de_dust2</td>\n",
       "      <td>391</td>\n",
       "      <td>400</td>\n",
       "      <td>750</td>\n",
       "      <td>500</td>\n",
       "      <td>0</td>\n",
       "      <td>0</td>\n",
       "      <td>...</td>\n",
       "      <td>0</td>\n",
       "      <td>0</td>\n",
       "      <td>0</td>\n",
       "      <td>0</td>\n",
       "      <td>0</td>\n",
       "      <td>0</td>\n",
       "      <td>0</td>\n",
       "      <td>0</td>\n",
       "      <td>0</td>\n",
       "      <td>CT</td>\n",
       "    </tr>\n",
       "    <tr>\n",
       "      <th>4</th>\n",
       "      <td>174.97</td>\n",
       "      <td>1</td>\n",
       "      <td>0</td>\n",
       "      <td>de_dust2</td>\n",
       "      <td>500</td>\n",
       "      <td>500</td>\n",
       "      <td>18350</td>\n",
       "      <td>10750</td>\n",
       "      <td>0</td>\n",
       "      <td>0</td>\n",
       "      <td>...</td>\n",
       "      <td>0</td>\n",
       "      <td>0</td>\n",
       "      <td>0</td>\n",
       "      <td>0</td>\n",
       "      <td>0</td>\n",
       "      <td>0</td>\n",
       "      <td>0</td>\n",
       "      <td>0</td>\n",
       "      <td>0</td>\n",
       "      <td>CT</td>\n",
       "    </tr>\n",
       "  </tbody>\n",
       "</table>\n",
       "<p>5 rows × 94 columns</p>\n",
       "</div>"
      ],
      "text/plain": [
       "   time_left  ct_score  t_score       map  ct_health  t_health  ct_money  \\\n",
       "0     175.00         0        0  de_dust2        500       500      4000   \n",
       "1     156.03         0        0  de_dust2        500       500       600   \n",
       "2      96.03         0        0  de_dust2        391       400       750   \n",
       "3      76.03         0        0  de_dust2        391       400       750   \n",
       "4     174.97         1        0  de_dust2        500       500     18350   \n",
       "\n",
       "   t_money  ct_helmets  t_helmets  ...  t_grenade_flashbang  \\\n",
       "0     4000           0          0  ...                    0   \n",
       "1      650           0          0  ...                    0   \n",
       "2      500           0          0  ...                    0   \n",
       "3      500           0          0  ...                    0   \n",
       "4    10750           0          0  ...                    0   \n",
       "\n",
       "   ct_grenade_smokegrenade  t_grenade_smokegrenade  \\\n",
       "0                        0                       0   \n",
       "1                        0                       2   \n",
       "2                        0                       2   \n",
       "3                        0                       0   \n",
       "4                        0                       0   \n",
       "\n",
       "   ct_grenade_incendiarygrenade  t_grenade_incendiarygrenade  \\\n",
       "0                             0                            0   \n",
       "1                             0                            0   \n",
       "2                             0                            0   \n",
       "3                             0                            0   \n",
       "4                             0                            0   \n",
       "\n",
       "   ct_grenade_molotovgrenade  t_grenade_molotovgrenade  \\\n",
       "0                          0                         0   \n",
       "1                          0                         0   \n",
       "2                          0                         0   \n",
       "3                          0                         0   \n",
       "4                          0                         0   \n",
       "\n",
       "   ct_grenade_decoygrenade  t_grenade_decoygrenade  round_winner  \n",
       "0                        0                       0            CT  \n",
       "1                        0                       0            CT  \n",
       "2                        0                       0            CT  \n",
       "3                        0                       0            CT  \n",
       "4                        0                       0            CT  \n",
       "\n",
       "[5 rows x 94 columns]"
      ]
     },
     "execution_count": 3,
     "metadata": {},
     "output_type": "execute_result"
    }
   ],
   "source": [
    "df = pd.read_excel('./datasets/Semana4/csgo_round_snapshots.xlsx')\n",
    "df.head()"
   ]
  },
  {
   "cell_type": "markdown",
   "metadata": {},
   "source": [
    "### 2. Divisão do Dataset"
   ]
  },
  {
   "cell_type": "code",
   "execution_count": 62,
   "metadata": {},
   "outputs": [],
   "source": [
    "X = df.drop('round_winner', axis=1)\n",
    "y = (df['round_winner'] == 'CT').astype(int).to_numpy()\n",
    "X_train, X_test, y_train, y_test = train_test_split(X, y, test_size=0.2, random_state=42)"
   ]
  },
  {
   "cell_type": "markdown",
   "metadata": {},
   "source": [
    "### 3. Preparação dos Dados"
   ]
  },
  {
   "cell_type": "code",
   "execution_count": 63,
   "metadata": {},
   "outputs": [],
   "source": [
    "# Define transformation functions\n",
    "def time_left_transform(df):\n",
    "    df['time_left'] = df['time_left'].astype(int)\n",
    "    return df\n",
    "\n",
    "def ct_ar_transform(df):\n",
    "    ct_other_ar = ['ct_weapon_aug', 'ct_weapon_famas', 'ct_weapon_scar20', 'ct_weapon_sg553']\n",
    "    df['ct_weapon_ar'] = df[ct_other_ar].sum(axis=1).astype(int)\n",
    "    df = df.drop(ct_other_ar, axis=1)\n",
    "    return df\n",
    "\n",
    "def t_ar_transform(df):\n",
    "    t_other_ar = ['t_weapon_aug', 't_weapon_famas', 't_weapon_g3sg1', 't_weapon_galilar', 't_weapon_m4a1s', 't_weapon_m4a4', 't_weapon_scar20', 't_weapon_sg553']\n",
    "    df['t_weapon_ar'] = df[t_other_ar].sum(axis=1).astype(int)\n",
    "    df = df.drop(t_other_ar, axis=1)\n",
    "    return df\n",
    "\n",
    "def pistols_transform(df):\n",
    "    pistols_columns = {'t_weapon_glock', 'ct_weapon_usps', 'ct_weapon_deagle', 't_weapon_deagle', 't_weapon_p250', 'ct_weapon_p250', 'ct_weapon_p2000', 'ct_weapon_cz75auto', 't_weapon_cz75auto', 'ct_weapon_fiveseven', 't_weapon_fiveseven', 't_weapon_tec9'}\n",
    "    ct_pistol_columns = {col for col in pistols_columns if 'ct' in col}\n",
    "    df['ct_pistols'] = df[list(ct_pistol_columns)].sum(axis=1).astype(int)\n",
    "    df = df.drop(list(ct_pistol_columns), axis=1)\n",
    "\n",
    "    t_pistol_columns = pistols_columns - ct_pistol_columns\n",
    "    df['t_pistols'] = df[list(t_pistol_columns)].sum(axis=1).astype(int)\n",
    "    df = df.drop(list(t_pistol_columns), axis=1)\n",
    "    return df\n",
    "\n",
    "def other_weapons_transform(df):\n",
    "    weapon_columns = {col for col in df.columns if 'weapon' in col}\n",
    "    meta_weapon_columns = {'ct_weapon_m4a4', 'ct_weapon_m4a1s' 'ct_weapon_ak47', 't_weapon_ak47', 'ct_weapon_awp', 't_weapon_awp', 'ct_pistols', 't_pistols'}\n",
    "    other_weapons_columns = weapon_columns - meta_weapon_columns\n",
    "    ct_other_weapons = {col for col in other_weapons_columns if 'ct' in col}\n",
    "    df['ct_weapon_other'] = df[list(ct_other_weapons)].sum(axis=1).astype(int)\n",
    "    df = df.drop(ct_other_weapons, axis=1)\n",
    "\n",
    "    t_other_weapons = list(other_weapons_columns - ct_other_weapons)\n",
    "    df['t_weapon_other'] = df[t_other_weapons].sum(axis=1).astype(int)\n",
    "    df = df.drop(t_other_weapons, axis=1)\n",
    "    return df\n",
    "\n",
    "def grenades_transform(df):\n",
    "    ct_grenade_columns = [col for col in df.columns if 'ct_grenade' in col]\n",
    "    t_grenade_columns = [col for col in df.columns if 't_grenade' in col]\n",
    "    df['ct_grenades'] = df[ct_grenade_columns].sum(axis=1)\n",
    "    df['t_grenades'] = df[t_grenade_columns].sum(axis=1)\n",
    "    df = df.drop(list(ct_grenade_columns) + list(t_grenade_columns), axis=1)\n",
    "    return df"
   ]
  },
  {
   "cell_type": "code",
   "execution_count": 68,
   "metadata": {},
   "outputs": [],
   "source": [
    "passthrough_features = ['ct_score','t_score','ct_health','t_health','ct_money','t_money','ct_helmets','t_helmets','ct_defuse_kits','ct_players_alive','t_players_alive']\n",
    "\n",
    "class PassthroughTransformer(BaseEstimator):\n",
    "  def fit(self, X, y = None):\n",
    "    self.cols = X.columns\n",
    "    return self\n",
    "\n",
    "  def transform(self, X, y = None):\n",
    "    self.cols = X.columns\n",
    "    return X.values\n",
    "\n",
    "  def get_feature_names(self):\n",
    "    return self.cols"
   ]
  },
  {
   "cell_type": "code",
   "execution_count": 69,
   "metadata": {},
   "outputs": [],
   "source": [
    "ct_other_ar = ['ct_weapon_aug', 'ct_weapon_famas', 'ct_weapon_scar20', 'ct_weapon_sg553']\n",
    "t_other_ar = ['t_weapon_aug', 't_weapon_famas', 't_weapon_g3sg1', 't_weapon_galilar', 't_weapon_m4a1s', 't_weapon_m4a4', 't_weapon_scar20', 't_weapon_sg553']\n",
    "pistols_columns = ['t_weapon_glock', 'ct_weapon_usps', 'ct_weapon_deagle', 't_weapon_deagle', 't_weapon_p250', 'ct_weapon_p250', 'ct_weapon_p2000', 'ct_weapon_cz75auto', 't_weapon_cz75auto', 'ct_weapon_fiveseven', 't_weapon_fiveseven', 't_weapon_tec9']\n",
    "weapon_columns = {col for col in df.columns if 'weapon' in col}\n",
    "meta_weapon_columns = {'ct_weapon_m4a4', 'ct_weapon_m4a1s' 'ct_weapon_ak47', 't_weapon_ak47', 'ct_weapon_awp', 't_weapon_awp', 'ct_pistols', 't_pistols'}\n",
    "other_weapons_columns = list(weapon_columns - meta_weapon_columns)\n",
    "grenade_columns = [col for col in df.columns if 'grenade' in col]"
   ]
  },
  {
   "cell_type": "code",
   "execution_count": 70,
   "metadata": {},
   "outputs": [],
   "source": [
    "preprocessor = ColumnTransformer(\n",
    "    transformers=[\n",
    "        ('cat', OneHotEncoder(handle_unknown='ignore'), ['map']),\n",
    "        ('time_left_transform', FunctionTransformer(time_left_transform), ['time_left']),\n",
    "        ('ct_ar_transform', FunctionTransformer(ct_ar_transform), ct_other_ar),\n",
    "        ('t_ar_transform', FunctionTransformer(t_ar_transform), t_other_ar),\n",
    "        ('pistols_transform', FunctionTransformer(pistols_transform), pistols_columns),\n",
    "        ('other_weapons_transform', FunctionTransformer(other_weapons_transform),other_weapons_columns),\n",
    "        ('grenades_transform', FunctionTransformer(grenades_transform), grenade_columns),\n",
    "        ('passthrough' , PassthroughTransformer(), passthrough_features)])\n"
   ]
  },
  {
   "cell_type": "markdown",
   "metadata": {},
   "source": [
    "### 4. Treinamento do Modelo"
   ]
  },
  {
   "cell_type": "code",
   "execution_count": 71,
   "metadata": {},
   "outputs": [],
   "source": [
    "pipeline = Pipeline([\n",
    "    ('preprocessor', preprocessor),\n",
    "    ('classifier', RandomForestClassifier(n_estimators=200, random_state=42))\n",
    "])\n",
    "\n",
    "pipeline.fit(X_train, y_train)"
   ]
  },
  {
   "cell_type": "markdown",
   "metadata": {},
   "source": [
    "### 5. Predições do Pipeline"
   ]
  },
  {
   "cell_type": "code",
   "execution_count": 72,
   "metadata": {},
   "outputs": [
    {
     "name": "stdout",
     "output_type": "stream",
     "text": [
      "Acurácia do modelo: 0.8649620129074422\n",
      "Relatório de classificação para Árvore de Decisão:\n",
      "              precision    recall  f1-score   support\n",
      "\n",
      "           0       0.87      0.86      0.87     12478\n",
      "           1       0.86      0.87      0.86     12004\n",
      "\n",
      "    accuracy                           0.86     24482\n",
      "   macro avg       0.86      0.87      0.86     24482\n",
      "weighted avg       0.87      0.86      0.86     24482\n",
      "\n"
     ]
    }
   ],
   "source": [
    "y_pred = pipeline.predict(X_test)\n",
    "accuracy = accuracy_score(y_test, y_pred)\n",
    "conf_matrix = confusion_matrix(y_test, y_pred)\n",
    "classification_rep = classification_report(y_test, y_pred)\n",
    "\n",
    "print(f\"Acurácia do modelo: {accuracy}\")\n",
    "print(\"Relatório de classificação para Árvore de Decisão:\")\n",
    "print(classification_rep)"
   ]
  },
  {
   "cell_type": "markdown",
   "metadata": {},
   "source": [
    "### 6. Matriz de Confusão"
   ]
  },
  {
   "cell_type": "code",
   "execution_count": 75,
   "metadata": {},
   "outputs": [
    {
     "data": {
      "image/png": "[encoded data removed]",
      "text/plain": [
       "<Figure size 640x480 with 2 Axes>"
      ]
     },
     "metadata": {},
     "output_type": "display_data"
    }
   ],
   "source": [
    "from sklearn.metrics import confusion_matrix, ConfusionMatrixDisplay\n",
    "import matplotlib.pyplot as plt\n",
    "class_labels = ['T', 'CT']\n",
    "\n",
    "conf_matrix = confusion_matrix(y_test, y_pred)\n",
    "disp_cm = ConfusionMatrixDisplay(confusion_matrix=conf_matrix, display_labels=class_labels)\n",
    "disp_cm.plot(values_format='d')\n",
    "plt.title('Matriz de Confusão - Árvore de Decisão')\n",
    "plt.show()"
   ]
  },
  {
   "cell_type": "markdown",
   "metadata": {},
   "source": [
    "### 7. Curva ROC e AUC"
   ]
  },
  {
   "cell_type": "code",
   "execution_count": 78,
   "metadata": {},
   "outputs": [
    {
     "data": {
      "image/png": "[encoded data removed]",
      "text/plain": [
       "<Figure size 640x480 with 1 Axes>"
      ]
     },
     "metadata": {},
     "output_type": "display_data"
    }
   ],
   "source": [
    "fpr, tpr, _ = roc_curve(y_test, y_pred)\n",
    "roc_auc= auc(fpr, tpr)\n",
    "\n",
    "plt.figure()\n",
    "plt.plot(fpr, tpr, color='darkorange', lw=2, label='Árvore de Decisão (AUC = %0.2f)' % roc_auc)\n",
    "\n",
    "plt.plot([0, 1], [0, 1], color='navy', lw=2, linestyle='--')\n",
    "\n",
    "plt.title('Curva ROC')\n",
    "plt.legend(loc='lower right')\n",
    "plt.show()"
   ]
  },
  {
   "cell_type": "markdown",
   "metadata": {},
   "source": [
    "### 8. Conclusões\n",
    "\n",
    "O modelo de classificação utilizado para prever os resultados das partidas com base no tempo de jogo alcançou um desempenho promissor. Apesar do conjunto de dados limitado e da ausência de informações detalhadas sobre cada jogador, o modelo atingiu uma precisão impressionante de 87% no conjunto de testes. Isso sugere que as características selecionadas e o algoritmo de aprendizado de máquina escolhido, um Classificador de Floresta Aleatória, capturaram efetivamente padrões nos dados relacionados aos resultados das partidas.\n",
    "\n",
    "Podemos observar que as métricas de precisão, recall e f1-score são consistentes para as classes 0 e 1. Isso sugere que o modelo não exibiu um viés significativo em favor de uma classe específica, mostrando-se equilibrado em sua capacidade de identificar tanto as instâncias positivas quanto as negativas. Além disso, alta precisão do modelo indica sua capacidade de generalizar bem para dados não vistos, tornando-o uma ferramenta valiosa para prever os resultados das partidas com base nas características fornecidas. As etapas de engenharia de características, incluindo a transformação de características relacionadas ao tempo e a agregação de informações sobre armas, parecem contribuir positivamente para o desempenho preditivo do modelo.\n",
    "\n",
    "É importante observar que, embora o modelo tenha um desempenho sólido, avaliações e validações adicionais em conjuntos de dados maiores e cenários diversos seriam benéficas para avaliar sua robustez e generalização. Além disso, a incorporação de informações mais detalhadas sobre os jogadores e a exploração de técnicas avançadas de engenharia de características poderiam aprimorar as capacidades preditivas do modelo.\n",
    "\n",
    "Em conclusão, o modelo de classificação atual mostra promessa na previsão dos resultados das partidas com base no tempo de jogo, e refinamentos e validações adicionais podem contribuir para sua eficácia em contextos mais amplos.\n"
   ]
  }
 ],
 "metadata": {
  "kernelspec": {
   "display_name": "ml",
   "language": "python",
   "name": "python3"
  },
  "language_info": {
   "codemirror_mode": {
    "name": "ipython",
    "version": 3
   },
   "file_extension": ".py",
   "mimetype": "text/x-python",
   "name": "python",
   "nbconvert_exporter": "python",
   "pygments_lexer": "ipython3",
   "version": "3.10.13"
  }
 },
 "nbformat": 4,
 "nbformat_minor": 2
}
